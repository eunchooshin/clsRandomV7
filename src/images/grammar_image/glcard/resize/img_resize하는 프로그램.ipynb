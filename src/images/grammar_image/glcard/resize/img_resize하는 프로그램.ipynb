{
 "cells": [
  {
   "cell_type": "code",
   "execution_count": 7,
   "id": "2825fea6",
   "metadata": {},
   "outputs": [],
   "source": [
    "import os\n",
    "import glob\n",
    "from PIL import Image"
   ]
  },
  {
   "cell_type": "code",
   "execution_count": 8,
   "id": "bd06a861",
   "metadata": {},
   "outputs": [],
   "source": [
    "files = glob.glob('./*.jpg')   # 원본 이미지 경로\n",
    "data_path = './3/'  # 저장할 이미지 경로\n",
    "\n",
    "# 저장할 경로 없으면 생성\n",
    "if not os.path.exists(data_path):\n",
    "    os.mkdir(data_path)\n",
    "\n",
    "for f in files:\n",
    "    img = Image.open(f)\n",
    "    img_resize = img.resize((int(img.width / 1.5), int(img.height / 1.5)))\n",
    "    title, ext = os.path.splitext(f)\n",
    "    # 저장           저장경로 / 밑에 / 이름 _ resize \n",
    "    img_resize.save(data_path + '/' + title + '_resize' + ext)"
   ]
  },
  {
   "cell_type": "code",
   "execution_count": null,
   "id": "f99d7849",
   "metadata": {},
   "outputs": [],
   "source": []
  }
 ],
 "metadata": {
  "kernelspec": {
   "display_name": "Python 3 (ipykernel)",
   "language": "python",
   "name": "python3"
  },
  "language_info": {
   "codemirror_mode": {
    "name": "ipython",
    "version": 3
   },
   "file_extension": ".py",
   "mimetype": "text/x-python",
   "name": "python",
   "nbconvert_exporter": "python",
   "pygments_lexer": "ipython3",
   "version": "3.9.12"
  }
 },
 "nbformat": 4,
 "nbformat_minor": 5
}
